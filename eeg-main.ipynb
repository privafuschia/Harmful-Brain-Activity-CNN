{
 "cells": [
  {
   "cell_type": "code",
   "execution_count": 1,
   "id": "6ddc9342",
   "metadata": {
    "_cell_guid": "b1076dfc-b9ad-4769-8c92-a6c4dae69d19",
    "_uuid": "8f2839f25d086af736a60e9eeb907d3b93b6e0e5",
    "execution": {
     "iopub.execute_input": "2024-03-31T17:29:37.158196Z",
     "iopub.status.busy": "2024-03-31T17:29:37.157532Z",
     "iopub.status.idle": "2024-03-31T17:29:48.225842Z",
     "shell.execute_reply": "2024-03-31T17:29:48.224596Z"
    },
    "papermill": {
     "duration": 11.082461,
     "end_time": "2024-03-31T17:29:48.229113",
     "exception": false,
     "start_time": "2024-03-31T17:29:37.146652",
     "status": "completed"
    },
    "tags": []
   },
   "outputs": [],
   "source": [
    "# imports\n",
    "import numpy as np # linear algebra\n",
    "import pandas as pd # data processing, CSV file I/O (e.g. pd.read_csv)\n",
    "import glob\n",
    "import pickle\n",
    "from scipy import signal\n",
    "import matplotlib.pyplot as plt\n",
    "from sklearn.preprocessing import minmax_scale\n",
    "from sklearn.model_selection import train_test_split\n",
    "\n",
    "import torch\n",
    "from torch import nn\n",
    "from torch.utils.data import Dataset\n",
    "from torch.utils.data import DataLoader\n",
    "from torchvision import datasets\n",
    "from torchvision.transforms import ToTensor\n",
    "import torch.optim as optim\n",
    "\n",
    "\n",
    "import os"
   ]
  },
  {
   "cell_type": "code",
   "execution_count": 2,
   "id": "ee237690",
   "metadata": {
    "execution": {
     "iopub.execute_input": "2024-03-31T17:29:48.248119Z",
     "iopub.status.busy": "2024-03-31T17:29:48.247210Z",
     "iopub.status.idle": "2024-03-31T17:29:48.255412Z",
     "shell.execute_reply": "2024-03-31T17:29:48.253734Z"
    },
    "papermill": {
     "duration": 0.021167,
     "end_time": "2024-03-31T17:29:48.258967",
     "exception": false,
     "start_time": "2024-03-31T17:29:48.237800",
     "status": "completed"
    },
    "tags": []
   },
   "outputs": [
    {
     "name": "stdout",
     "output_type": "stream",
     "text": [
      "Using cpu device\n"
     ]
    }
   ],
   "source": [
    "device = (\n",
    "    \"cuda\"\n",
    "    if torch.cuda.is_available()\n",
    "    else \"mps\"\n",
    "    if torch.backends.mps.is_available()\n",
    "    else \"cpu\"\n",
    ")\n",
    "print(f\"Using {device} device\")"
   ]
  },
  {
   "cell_type": "markdown",
   "id": "c0cf7c78",
   "metadata": {
    "papermill": {
     "duration": 0.007472,
     "end_time": "2024-03-31T17:29:48.274234",
     "exception": false,
     "start_time": "2024-03-31T17:29:48.266762",
     "status": "completed"
    },
    "tags": []
   },
   "source": [
    "# Data Processing"
   ]
  },
  {
   "cell_type": "code",
   "execution_count": 3,
   "id": "d8c67d56",
   "metadata": {
    "execution": {
     "iopub.execute_input": "2024-03-31T17:29:48.291855Z",
     "iopub.status.busy": "2024-03-31T17:29:48.291418Z",
     "iopub.status.idle": "2024-03-31T17:29:48.660267Z",
     "shell.execute_reply": "2024-03-31T17:29:48.658366Z"
    },
    "papermill": {
     "duration": 0.380959,
     "end_time": "2024-03-31T17:29:48.663107",
     "exception": false,
     "start_time": "2024-03-31T17:29:48.282148",
     "status": "completed"
    },
    "tags": []
   },
   "outputs": [
    {
     "name": "stdout",
     "output_type": "stream",
     "text": [
      "       eeg_id  eeg_sub_id  eeg_label_offset_seconds  spectrogram_id  \\\n",
      "0  1628180742           0                       0.0          353733   \n",
      "1  2277392603           0                       0.0          924234   \n",
      "2   722738444           0                       0.0          999431   \n",
      "3   387987538           0                       0.0         1084844   \n",
      "4  2175806584           0                       0.0         1219001   \n",
      "\n",
      "   spectrogram_sub_id  spectrogram_label_offset_seconds    label_id  \\\n",
      "0                   0                               0.0   127492639   \n",
      "1                   0                               0.0  1978807404   \n",
      "2                   0                               0.0   557980729   \n",
      "3                   0                               0.0  4099147263   \n",
      "4                   0                               0.0  1963161945   \n",
      "\n",
      "   patient_id expert_consensus  seizure_vote  lpd_vote  gpd_vote  lrda_vote  \\\n",
      "0       42516          Seizure             3         0         0          0   \n",
      "1       30539              GPD             0         0         5          0   \n",
      "2       56885             LRDA             0         1         0         14   \n",
      "3        4264             LRDA             0         0         0          3   \n",
      "4       23435          Seizure             3         0         0          0   \n",
      "\n",
      "   grda_vote  other_vote  \n",
      "0          0           0  \n",
      "1          1           5  \n",
      "2          0           1  \n",
      "3          0           0  \n",
      "4          0           0  \n",
      "(13671, 15)\n",
      "(3418, 15)\n"
     ]
    }
   ],
   "source": [
    "# importing train.csv data and modifying entries to remove duplicate and reset index\n",
    "\n",
    "eeg_y = pd.read_csv('/kaggle/input/hms-harmful-brain-activity-classification/train.csv')\n",
    "eeg_y = eeg_y.drop_duplicates(subset='eeg_id', keep='first') # There are duplicate entries in the csv for different timestamps. For our case we can just take the first occurance.\n",
    "eeg_y = eeg_y.reset_index(drop=True) # Index will be fragmented after dropping duplicate, so we reassign each entry a new index starting from 0 to n.        \n",
    "\n",
    "# split eeg_y into train and test split\n",
    "eeg_train_y, eeg_test_y = train_test_split(eeg_y, test_size=0.2, shuffle=True)\n",
    "\n",
    "print(eeg_y.head())\n",
    "print(eeg_train_y.shape)\n",
    "print(eeg_test_y.shape)\n"
   ]
  },
  {
   "cell_type": "code",
   "execution_count": 4,
   "id": "24feb61f",
   "metadata": {
    "execution": {
     "iopub.execute_input": "2024-03-31T17:29:48.681898Z",
     "iopub.status.busy": "2024-03-31T17:29:48.680621Z",
     "iopub.status.idle": "2024-03-31T17:31:33.834655Z",
     "shell.execute_reply": "2024-03-31T17:31:33.833107Z"
    },
    "papermill": {
     "duration": 105.166989,
     "end_time": "2024-03-31T17:31:33.838107",
     "exception": false,
     "start_time": "2024-03-31T17:29:48.671118",
     "status": "completed"
    },
    "tags": []
   },
   "outputs": [],
   "source": [
    "# import eeg data as dictionary from dict notebook\n",
    "# This is a lot faster than loading the data from kaggle into a new dictionary.\n",
    "eeg_data_dict = {}\n",
    "with open('/kaggle/input/notebook01c73f822d/saved_eeg_dict.pkl', 'rb') as f:\n",
    "    eeg_data_dict = pickle.load(f)"
   ]
  },
  {
   "cell_type": "code",
   "execution_count": 5,
   "id": "d4c5eb6f",
   "metadata": {
    "execution": {
     "iopub.execute_input": "2024-03-31T17:31:33.857439Z",
     "iopub.status.busy": "2024-03-31T17:31:33.857052Z",
     "iopub.status.idle": "2024-03-31T17:31:34.202252Z",
     "shell.execute_reply": "2024-03-31T17:31:34.201091Z"
    },
    "papermill": {
     "duration": 0.357608,
     "end_time": "2024-03-31T17:31:34.204620",
     "exception": false,
     "start_time": "2024-03-31T17:31:33.847012",
     "status": "completed"
    },
    "tags": []
   },
   "outputs": [
    {
     "data": {
      "image/png": "[encoded data removed]",
      "text/plain": [
       "<Figure size 640x480 with 1 Axes>"
      ]
     },
     "metadata": {},
     "output_type": "display_data"
    }
   ],
   "source": [
    "# plot unfiltered and un-normalized data\n",
    "plt.plot(next(iter(eeg_data_dict.values()))[:, 0])\n",
    "plt.show()"
   ]
  },
  {
   "cell_type": "code",
   "execution_count": 6,
   "id": "710bbfea",
   "metadata": {
    "execution": {
     "iopub.execute_input": "2024-03-31T17:31:34.225789Z",
     "iopub.status.busy": "2024-03-31T17:31:34.224107Z",
     "iopub.status.idle": "2024-03-31T17:31:34.234305Z",
     "shell.execute_reply": "2024-03-31T17:31:34.232900Z"
    },
    "papermill": {
     "duration": 0.024186,
     "end_time": "2024-03-31T17:31:34.237912",
     "exception": false,
     "start_time": "2024-03-31T17:31:34.213726",
     "status": "completed"
    },
    "tags": []
   },
   "outputs": [
    {
     "name": "stdout",
     "output_type": "stream",
     "text": [
      "17089\n",
      "[[ -75.36   92.37   65.47 ...  -42.16  121.24   72.55]\n",
      " [-107.74   59.07   32.59 ...  -80.43   88.4    40.25]\n",
      " [-103.05   50.95   10.75 ...  -93.09   51.69   31.82]\n",
      " ...\n",
      " [-141.6   -47.55 -120.6  ... -145.94    2.19  -19.32]\n",
      " [-155.55  -60.48 -116.54 ... -138.28   28.15  -21.1 ]\n",
      " [-184.43 -107.31 -161.08 ... -169.9   -15.49  -55.96]]\n",
      "8\n",
      "8\n",
      "8\n",
      "hi\n"
     ]
    }
   ],
   "source": [
    "print(len(eeg_data_dict))\n",
    "print(eeg_data_dict[568657])\n",
    "print(len(eeg_data_dict[568657][0]))\n",
    "print(len(eeg_data_dict[568657][1]))\n",
    "print(len(eeg_data_dict[568657][2]))\n",
    "\n",
    "print(\"hi\")"
   ]
  },
  {
   "cell_type": "code",
   "execution_count": 7,
   "id": "b722e80f",
   "metadata": {
    "execution": {
     "iopub.execute_input": "2024-03-31T17:31:34.256868Z",
     "iopub.status.busy": "2024-03-31T17:31:34.256429Z",
     "iopub.status.idle": "2024-03-31T17:31:34.266804Z",
     "shell.execute_reply": "2024-03-31T17:31:34.265487Z"
    },
    "papermill": {
     "duration": 0.023081,
     "end_time": "2024-03-31T17:31:34.269528",
     "exception": false,
     "start_time": "2024-03-31T17:31:34.246447",
     "status": "completed"
    },
    "tags": []
   },
   "outputs": [],
   "source": [
    "# apply frequency filter to eeg data\n",
    "# Keep frequency within 1hz to 40hz\n",
    "sos = signal.butter(3, [1, 40], 'bandpass', fs=200, output='sos') # this is the filter, we will apply it below with signal.sosfilt()"
   ]
  },
  {
   "cell_type": "markdown",
   "id": "4d15e168",
   "metadata": {
    "papermill": {
     "duration": 0.008396,
     "end_time": "2024-03-31T17:31:34.286790",
     "exception": false,
     "start_time": "2024-03-31T17:31:34.278394",
     "status": "completed"
    },
    "tags": []
   },
   "source": [
    "## Dataset and Dataloader"
   ]
  },
  {
   "cell_type": "code",
   "execution_count": 8,
   "id": "9c56c228",
   "metadata": {
    "execution": {
     "iopub.execute_input": "2024-03-31T17:31:34.307682Z",
     "iopub.status.busy": "2024-03-31T17:31:34.307138Z",
     "iopub.status.idle": "2024-03-31T17:31:34.320663Z",
     "shell.execute_reply": "2024-03-31T17:31:34.319128Z"
    },
    "papermill": {
     "duration": 0.027969,
     "end_time": "2024-03-31T17:31:34.323300",
     "exception": false,
     "start_time": "2024-03-31T17:31:34.295331",
     "status": "completed"
    },
    "tags": []
   },
   "outputs": [],
   "source": [
    "# Custom dataset\n",
    "class EEGDataset(Dataset):\n",
    "    def __init__(self, eeg_y, eeg_data_dict, transform=None, target_transform=None):\n",
    "        self.eeg_labels = eeg_y\n",
    "        self.eeg_data_dict = eeg_data_dict\n",
    "#         self.transform = transform\n",
    "#         self.target_transform = target_transform\n",
    "    \n",
    "    def __len__(self): # number of samples in our dataset\n",
    "        return len(self.eeg_labels)\n",
    "    \n",
    "    def __getitem__(self, idx): # loads and returns a sample at index idx.\n",
    "        # convert votes to probability distribution vector\n",
    "        votes = eeg_y.loc[idx, ['seizure_vote', 'lpd_vote', 'gpd_vote', 'lrda_vote', 'grda_vote', 'other_vote']].to_numpy()\n",
    "        total_vote = np.sum(votes)\n",
    "        label = votes / total_vote\n",
    "        label = torch.tensor(np.array(label, dtype=np.float64))\n",
    "        \n",
    "        eeg = eeg_data_dict.get(eeg_y.loc[idx, 'eeg_id'])\n",
    "        \n",
    "        # we need to crop the eeg to 50 seconds, starting from the offset specified in eeg_label_offset_seconds\n",
    "        offset_index = int(eeg_y.loc[idx, 'eeg_label_offset_seconds']) * 200\n",
    "        end_index = offset_index + 10000\n",
    "        eeg = eeg[offset_index: end_index, ] # select 50 second of data\n",
    "        \n",
    "        # apply sosfilt and minmax normalization to eeg data\n",
    "        sos_eeg = signal.sosfilt(sos, eeg, axis=0)\n",
    "        normalized_eeg = minmax_scale(sos_eeg, axis=0)\n",
    "        normalized_eeg = torch.tensor(normalized_eeg)\n",
    "        \n",
    "#         if self.transform:\n",
    "#             normalized_eeg = self.transform(normalized_eeg)\n",
    "#         if self.target_transform:\n",
    "#             label = self.target_transform(label)\n",
    "        \n",
    "        return normalized_eeg, label"
   ]
  },
  {
   "cell_type": "code",
   "execution_count": 9,
   "id": "5d42c180",
   "metadata": {
    "execution": {
     "iopub.execute_input": "2024-03-31T17:31:34.343585Z",
     "iopub.status.busy": "2024-03-31T17:31:34.343168Z",
     "iopub.status.idle": "2024-03-31T17:31:34.349760Z",
     "shell.execute_reply": "2024-03-31T17:31:34.348020Z"
    },
    "papermill": {
     "duration": 0.020087,
     "end_time": "2024-03-31T17:31:34.352564",
     "exception": false,
     "start_time": "2024-03-31T17:31:34.332477",
     "status": "completed"
    },
    "tags": []
   },
   "outputs": [],
   "source": [
    "eeg_train_data_set = EEGDataset(eeg_train_y, eeg_data_dict)\n",
    "eeg_test_data_set = EEGDataset(eeg_test_y, eeg_data_dict)"
   ]
  },
  {
   "cell_type": "code",
   "execution_count": 10,
   "id": "9198e432",
   "metadata": {
    "execution": {
     "iopub.execute_input": "2024-03-31T17:31:34.372231Z",
     "iopub.status.busy": "2024-03-31T17:31:34.371742Z",
     "iopub.status.idle": "2024-03-31T17:31:34.514745Z",
     "shell.execute_reply": "2024-03-31T17:31:34.512774Z"
    },
    "papermill": {
     "duration": 0.156947,
     "end_time": "2024-03-31T17:31:34.518198",
     "exception": false,
     "start_time": "2024-03-31T17:31:34.361251",
     "status": "completed"
    },
    "tags": []
   },
   "outputs": [
    {
     "name": "stdout",
     "output_type": "stream",
     "text": [
      "torch.Size([10000, 8]) tensor([1., 0., 0., 0., 0., 0.], dtype=torch.float64)\n"
     ]
    }
   ],
   "source": [
    "normalized_eeg, label = eeg_train_data_set[0]\n",
    "print(normalized_eeg.shape, label)"
   ]
  },
  {
   "cell_type": "code",
   "execution_count": null,
   "id": "1f434e3e",
   "metadata": {
    "papermill": {
     "duration": 0.008658,
     "end_time": "2024-03-31T17:31:34.535989",
     "exception": false,
     "start_time": "2024-03-31T17:31:34.527331",
     "status": "completed"
    },
    "tags": []
   },
   "outputs": [],
   "source": []
  },
  {
   "cell_type": "code",
   "execution_count": 11,
   "id": "06e70d57",
   "metadata": {
    "execution": {
     "iopub.execute_input": "2024-03-31T17:31:34.556335Z",
     "iopub.status.busy": "2024-03-31T17:31:34.555861Z",
     "iopub.status.idle": "2024-03-31T17:31:36.405776Z",
     "shell.execute_reply": "2024-03-31T17:31:36.403856Z"
    },
    "papermill": {
     "duration": 1.863881,
     "end_time": "2024-03-31T17:31:36.408741",
     "exception": false,
     "start_time": "2024-03-31T17:31:34.544860",
     "status": "completed"
    },
    "tags": []
   },
   "outputs": [
    {
     "data": {
      "image/png": "[encoded data removed]",
      "text/plain": [
       "<Figure size 640x480 with 1 Axes>"
      ]
     },
     "metadata": {},
     "output_type": "display_data"
    }
   ],
   "source": [
    "plt.plot(normalized_eeg)\n",
    "plt.show()"
   ]
  },
  {
   "cell_type": "code",
   "execution_count": 12,
   "id": "e050b1a0",
   "metadata": {
    "execution": {
     "iopub.execute_input": "2024-03-31T17:31:36.432930Z",
     "iopub.status.busy": "2024-03-31T17:31:36.432431Z",
     "iopub.status.idle": "2024-03-31T17:31:36.440158Z",
     "shell.execute_reply": "2024-03-31T17:31:36.438334Z"
    },
    "papermill": {
     "duration": 0.022895,
     "end_time": "2024-03-31T17:31:36.442934",
     "exception": false,
     "start_time": "2024-03-31T17:31:36.420039",
     "status": "completed"
    },
    "tags": []
   },
   "outputs": [],
   "source": [
    "# Dataloader\n",
    "# Purpose: split the dataset up into mini batches because the hardware cannot store tens of thoasands of data in memory at one time.\n",
    "train_dataloader = DataLoader(eeg_train_data_set, batch_size=64, shuffle=True)\n",
    "test_dataloader = DataLoader(eeg_test_data_set, batch_size=64, shuffle=True)"
   ]
  },
  {
   "cell_type": "code",
   "execution_count": 13,
   "id": "b063be0f",
   "metadata": {
    "execution": {
     "iopub.execute_input": "2024-03-31T17:31:36.465707Z",
     "iopub.status.busy": "2024-03-31T17:31:36.465197Z",
     "iopub.status.idle": "2024-03-31T17:31:36.472795Z",
     "shell.execute_reply": "2024-03-31T17:31:36.471016Z"
    },
    "papermill": {
     "duration": 0.022534,
     "end_time": "2024-03-31T17:31:36.475660",
     "exception": false,
     "start_time": "2024-03-31T17:31:36.453126",
     "status": "completed"
    },
    "tags": []
   },
   "outputs": [
    {
     "name": "stdout",
     "output_type": "stream",
     "text": [
      "<torch.utils.data.dataloader.DataLoader object at 0x7a6c91273880>\n",
      "214\n"
     ]
    }
   ],
   "source": [
    "print(train_dataloader)\n",
    "print(len(train_dataloader))"
   ]
  },
  {
   "cell_type": "code",
   "execution_count": 14,
   "id": "b42c3664",
   "metadata": {
    "execution": {
     "iopub.execute_input": "2024-03-31T17:31:36.498269Z",
     "iopub.status.busy": "2024-03-31T17:31:36.497790Z",
     "iopub.status.idle": "2024-03-31T17:31:36.802276Z",
     "shell.execute_reply": "2024-03-31T17:31:36.797987Z"
    },
    "papermill": {
     "duration": 0.319804,
     "end_time": "2024-03-31T17:31:36.805771",
     "exception": false,
     "start_time": "2024-03-31T17:31:36.485967",
     "status": "completed"
    },
    "tags": []
   },
   "outputs": [
    {
     "name": "stdout",
     "output_type": "stream",
     "text": [
      "EEG torch.Size([64, 10000, 8])\n",
      "Labels torch.Size([64, 6])\n"
     ]
    },
    {
     "name": "stderr",
     "output_type": "stream",
     "text": [
      "/opt/conda/lib/python3.10/site-packages/sklearn/preprocessing/_data.py:473: RuntimeWarning: All-NaN slice encountered\n",
      "  data_min = np.nanmin(X, axis=0)\n",
      "/opt/conda/lib/python3.10/site-packages/sklearn/preprocessing/_data.py:474: RuntimeWarning: All-NaN slice encountered\n",
      "  data_max = np.nanmax(X, axis=0)\n"
     ]
    }
   ],
   "source": [
    "train_eeg_batch, train_labels_batch = next(iter(train_dataloader))\n",
    "print(f\"EEG {train_eeg_batch.shape}\")\n",
    "print(f\"Labels {train_labels_batch.shape}\")\n"
   ]
  },
  {
   "cell_type": "markdown",
   "id": "60afd373",
   "metadata": {
    "papermill": {
     "duration": 0.011128,
     "end_time": "2024-03-31T17:31:36.828089",
     "exception": false,
     "start_time": "2024-03-31T17:31:36.816961",
     "status": "completed"
    },
    "tags": []
   },
   "source": [
    "# Convolution Neural Network"
   ]
  },
  {
   "cell_type": "code",
   "execution_count": 15,
   "id": "4fc7bf81",
   "metadata": {
    "execution": {
     "iopub.execute_input": "2024-03-31T17:31:36.854437Z",
     "iopub.status.busy": "2024-03-31T17:31:36.853961Z",
     "iopub.status.idle": "2024-03-31T17:31:36.874321Z",
     "shell.execute_reply": "2024-03-31T17:31:36.872901Z"
    },
    "papermill": {
     "duration": 0.038003,
     "end_time": "2024-03-31T17:31:36.877642",
     "exception": false,
     "start_time": "2024-03-31T17:31:36.839639",
     "status": "completed"
    },
    "tags": []
   },
   "outputs": [],
   "source": [
    "class ConvolutionNeuralNetwork1D(nn.Module):\n",
    "    def __init__(self, num_classes=6):\n",
    "        super().__init__() # Inherit from nn.Module\n",
    "        \n",
    "        # https://pytorch.org/docs/stable/generated/torch.nn.Conv1d.html <-- Conv1d documentation\n",
    "        self.flatten = nn.Flatten()\n",
    "        self.layer_stack = nn.Sequential(\n",
    "            # Modified VGG-19 model for 1D convolution\n",
    "            \n",
    "            # block1: 2 conv - 1 maxpool\n",
    "            nn.Conv1d(8, 64, kernel_size=3, padding=1), # 8 = number of channels, 64 = number of filters that we output (we can adjust this), kernel_size=3 because we dont have a lot to work with, padding = 1 to maintain shape of input so it doesn't reduce length too quickly\n",
    "            nn.ReLU(inplace=True),\n",
    "            nn.Conv1d(64, 64, kernel_size=3, padding=1),\n",
    "            nn.ReLU(inplace=True),\n",
    "            nn.MaxPool1d(kernel_size=2, stride=2),\n",
    "            \n",
    "            # block2: 2 conv - 1maxpool\n",
    "            nn.Conv1d(64, 128, kernel_size=3, padding=1),\n",
    "            nn.ReLU(inplace=True),\n",
    "            nn.Conv1d(128, 128, kernel_size=3, padding=1),\n",
    "            nn.ReLU(inplace=True),\n",
    "            nn.MaxPool1d(kernel_size=2, stride=2),\n",
    "            \n",
    "            # block3: 4 conv - 1 maxpool\n",
    "            nn.Conv1d(128, 256, kernel_size=3, padding=1),\n",
    "            nn.ReLU(inplace=True),\n",
    "            nn.Conv1d(256, 256, kernel_size=3, padding=1),\n",
    "            nn.ReLU(inplace=True),\n",
    "            nn.Conv1d(256, 256, kernel_size=3, padding=1),\n",
    "            nn.ReLU(inplace=True),\n",
    "            nn.Conv1d(256, 256, kernel_size=3, padding=1),\n",
    "            nn.ReLU(inplace=True),\n",
    "            nn.MaxPool1d(kernel_size=2, stride=2),\n",
    "            \n",
    "            # block4: 4 conv - 1 maxpool\n",
    "            nn.Conv1d(256, 512, kernel_size=3, padding=1),\n",
    "            nn.ReLU(inplace=True),\n",
    "            nn.Conv1d(512, 512, kernel_size=3, padding=1),\n",
    "            nn.ReLU(inplace=True),\n",
    "            nn.Conv1d(512, 512, kernel_size=3, padding=1),\n",
    "            nn.ReLU(inplace=True),\n",
    "            nn.Conv1d(512, 512, kernel_size=3, padding=1),\n",
    "            nn.ReLU(inplace=True),\n",
    "            nn.MaxPool1d(kernel_size=2, stride=2),\n",
    "            \n",
    "            # block5: 4 conv - 1 maxpool\n",
    "            nn.Conv1d(512, 512, kernel_size=3, padding=1),\n",
    "            nn.ReLU(inplace=True),\n",
    "            nn.Conv1d(512, 512, kernel_size=3, padding=1),\n",
    "            nn.ReLU(inplace=True),\n",
    "            nn.Conv1d(512, 512, kernel_size=3, padding=1),\n",
    "            nn.ReLU(inplace=True),\n",
    "            nn.Conv1d(512, 512, kernel_size=3, padding=1),\n",
    "            nn.ReLU(inplace=True),\n",
    "            nn.MaxPool1d(kernel_size=2, stride=2),\n",
    "        )\n",
    "        \n",
    "        self.avgpool = nn.AdaptiveAvgPool1d(7)\n",
    "\n",
    "        self.classifier = nn.Sequential(\n",
    "            nn.Linear(512 * 7, 4096),\n",
    "            nn.ReLU(inplace=True),\n",
    "            nn.Dropout(),\n",
    "            nn.Linear(4096, 4096),\n",
    "            nn.ReLU(inplace=True),\n",
    "            nn.Dropout(),\n",
    "            nn.Linear(4096, num_classes),\n",
    "        )\n",
    "    \n",
    "    def forward(self, x: torch.Tensor):\n",
    "        x = self.layer_stack(x)\n",
    "        x = self.avgpool(x)\n",
    "        x = torch.flatten(x, 1) # Flatten starting from the second dimension\n",
    "        logits = self.classifier(x)\n",
    "        return logits\n",
    "    \n",
    "    def parameters(self):\n",
    "        # include function to return the parameters of the model?\n",
    "        return\n",
    "    "
   ]
  },
  {
   "cell_type": "code",
   "execution_count": 16,
   "id": "24baac74",
   "metadata": {
    "execution": {
     "iopub.execute_input": "2024-03-31T17:31:36.903211Z",
     "iopub.status.busy": "2024-03-31T17:31:36.902393Z",
     "iopub.status.idle": "2024-03-31T17:31:37.343606Z",
     "shell.execute_reply": "2024-03-31T17:31:37.342387Z"
    },
    "papermill": {
     "duration": 0.457975,
     "end_time": "2024-03-31T17:31:37.347089",
     "exception": false,
     "start_time": "2024-03-31T17:31:36.889114",
     "status": "completed"
    },
    "tags": []
   },
   "outputs": [
    {
     "name": "stdout",
     "output_type": "stream",
     "text": [
      "model =  ConvolutionNeuralNetwork1D(\n",
      "  (flatten): Flatten(start_dim=1, end_dim=-1)\n",
      "  (layer_stack): Sequential(\n",
      "    (0): Conv1d(8, 64, kernel_size=(3,), stride=(1,), padding=(1,))\n",
      "    (1): ReLU(inplace=True)\n",
      "    (2): Conv1d(64, 64, kernel_size=(3,), stride=(1,), padding=(1,))\n",
      "    (3): ReLU(inplace=True)\n",
      "    (4): MaxPool1d(kernel_size=2, stride=2, padding=0, dilation=1, ceil_mode=False)\n",
      "    (5): Conv1d(64, 128, kernel_size=(3,), stride=(1,), padding=(1,))\n",
      "    (6): ReLU(inplace=True)\n",
      "    (7): Conv1d(128, 128, kernel_size=(3,), stride=(1,), padding=(1,))\n",
      "    (8): ReLU(inplace=True)\n",
      "    (9): MaxPool1d(kernel_size=2, stride=2, padding=0, dilation=1, ceil_mode=False)\n",
      "    (10): Conv1d(128, 256, kernel_size=(3,), stride=(1,), padding=(1,))\n",
      "    (11): ReLU(inplace=True)\n",
      "    (12): Conv1d(256, 256, kernel_size=(3,), stride=(1,), padding=(1,))\n",
      "    (13): ReLU(inplace=True)\n",
      "    (14): Conv1d(256, 256, kernel_size=(3,), stride=(1,), padding=(1,))\n",
      "    (15): ReLU(inplace=True)\n",
      "    (16): Conv1d(256, 256, kernel_size=(3,), stride=(1,), padding=(1,))\n",
      "    (17): ReLU(inplace=True)\n",
      "    (18): MaxPool1d(kernel_size=2, stride=2, padding=0, dilation=1, ceil_mode=False)\n",
      "    (19): Conv1d(256, 512, kernel_size=(3,), stride=(1,), padding=(1,))\n",
      "    (20): ReLU(inplace=True)\n",
      "    (21): Conv1d(512, 512, kernel_size=(3,), stride=(1,), padding=(1,))\n",
      "    (22): ReLU(inplace=True)\n",
      "    (23): Conv1d(512, 512, kernel_size=(3,), stride=(1,), padding=(1,))\n",
      "    (24): ReLU(inplace=True)\n",
      "    (25): Conv1d(512, 512, kernel_size=(3,), stride=(1,), padding=(1,))\n",
      "    (26): ReLU(inplace=True)\n",
      "    (27): MaxPool1d(kernel_size=2, stride=2, padding=0, dilation=1, ceil_mode=False)\n",
      "    (28): Conv1d(512, 512, kernel_size=(3,), stride=(1,), padding=(1,))\n",
      "    (29): ReLU(inplace=True)\n",
      "    (30): Conv1d(512, 512, kernel_size=(3,), stride=(1,), padding=(1,))\n",
      "    (31): ReLU(inplace=True)\n",
      "    (32): Conv1d(512, 512, kernel_size=(3,), stride=(1,), padding=(1,))\n",
      "    (33): ReLU(inplace=True)\n",
      "    (34): Conv1d(512, 512, kernel_size=(3,), stride=(1,), padding=(1,))\n",
      "    (35): ReLU(inplace=True)\n",
      "    (36): MaxPool1d(kernel_size=2, stride=2, padding=0, dilation=1, ceil_mode=False)\n",
      "  )\n",
      "  (avgpool): AdaptiveAvgPool1d(output_size=7)\n",
      "  (classifier): Sequential(\n",
      "    (0): Linear(in_features=3584, out_features=4096, bias=True)\n",
      "    (1): ReLU(inplace=True)\n",
      "    (2): Dropout(p=0.5, inplace=False)\n",
      "    (3): Linear(in_features=4096, out_features=4096, bias=True)\n",
      "    (4): ReLU(inplace=True)\n",
      "    (5): Dropout(p=0.5, inplace=False)\n",
      "    (6): Linear(in_features=4096, out_features=6, bias=True)\n",
      "  )\n",
      ")\n"
     ]
    }
   ],
   "source": [
    "model = ConvolutionNeuralNetwork1D().to(device)\n",
    "print(\"model = \", model)\n",
    "\n",
    "# learning_rate = 0.01\n",
    "# criterion = nn.CrossEntropyLoss()\n",
    "# optimizer = torch.optim.SGD(model.parameters(), lr=learning_rate) # SGD = stochastic gradient descent\n",
    "# how many parameters should we have?"
   ]
  },
  {
   "cell_type": "markdown",
   "id": "21f325e4",
   "metadata": {
    "papermill": {
     "duration": 0.010004,
     "end_time": "2024-03-31T17:31:37.367694",
     "exception": false,
     "start_time": "2024-03-31T17:31:37.357690",
     "status": "completed"
    },
    "tags": []
   },
   "source": [
    "# Training Loop"
   ]
  },
  {
   "cell_type": "code",
   "execution_count": null,
   "id": "69c60555",
   "metadata": {
    "papermill": {
     "duration": 0.010142,
     "end_time": "2024-03-31T17:31:37.388335",
     "exception": false,
     "start_time": "2024-03-31T17:31:37.378193",
     "status": "completed"
    },
    "tags": []
   },
   "outputs": [],
   "source": []
  },
  {
   "cell_type": "markdown",
   "id": "bc9f32d3",
   "metadata": {
    "papermill": {
     "duration": 0.010121,
     "end_time": "2024-03-31T17:31:37.408868",
     "exception": false,
     "start_time": "2024-03-31T17:31:37.398747",
     "status": "completed"
    },
    "tags": []
   },
   "source": []
  }
 ],
 "metadata": {
  "kaggle": {
   "accelerator": "none",
   "dataSources": [
    {
     "databundleVersionId": 7469972,
     "sourceId": 59093,
     "sourceType": "competition"
    },
    {
     "sourceId": 169204395,
     "sourceType": "kernelVersion"
    }
   ],
   "dockerImageVersionId": 30673,
   "isGpuEnabled": false,
   "isInternetEnabled": true,
   "language": "python",
   "sourceType": "notebook"
  },
  "kernelspec": {
   "display_name": "Python 3",
   "language": "python",
   "name": "python3"
  },
  "language_info": {
   "codemirror_mode": {
    "name": "ipython",
    "version": 3
   },
   "file_extension": ".py",
   "mimetype": "text/x-python",
   "name": "python",
   "nbconvert_exporter": "python",
   "pygments_lexer": "ipython3",
   "version": "3.10.13"
  },
  "papermill": {
   "default_parameters": {},
   "duration": 126.279695,
   "end_time": "2024-03-31T17:31:40.072831",
   "environment_variables": {},
   "exception": null,
   "input_path": "__notebook__.ipynb",
   "output_path": "__notebook__.ipynb",
   "parameters": {},
   "start_time": "2024-03-31T17:29:33.793136",
   "version": "2.5.0"
  }
 },
 "nbformat": 4,
 "nbformat_minor": 5
}
