{
 "cells": [
  {
   "cell_type": "code",
   "execution_count": 1,
   "id": "adfaa0da",
   "metadata": {
    "_cell_guid": "b1076dfc-b9ad-4769-8c92-a6c4dae69d19",
    "_uuid": "8f2839f25d086af736a60e9eeb907d3b93b6e0e5",
    "execution": {
     "iopub.execute_input": "2024-04-16T10:51:12.187196Z",
     "iopub.status.busy": "2024-04-16T10:51:12.186489Z",
     "iopub.status.idle": "2024-04-16T10:51:22.197760Z",
     "shell.execute_reply": "2024-04-16T10:51:22.196572Z"
    },
    "papermill": {
     "duration": 10.023078,
     "end_time": "2024-04-16T10:51:22.200742",
     "exception": false,
     "start_time": "2024-04-16T10:51:12.177664",
     "status": "completed"
    },
    "tags": []
   },
   "outputs": [],
   "source": [
    "# imports\n",
    "import numpy as np # linear algebra\n",
    "import pandas as pd # data processing, CSV file I/O (e.g. pd.read_csv)\n",
    "import glob\n",
    "import pickle\n",
    "from scipy import signal\n",
    "import matplotlib.pyplot as plt\n",
    "from sklearn.preprocessing import minmax_scale\n",
    "from sklearn.model_selection import train_test_split\n",
    "\n",
    "import torch\n",
    "from torch import nn\n",
    "from torch.utils.data import Dataset\n",
    "from torch.utils.data import DataLoader\n",
    "from torchvision import datasets\n",
    "from torchvision.transforms import ToTensor\n",
    "import torch.optim as optim\n",
    "import torch.nn.functional as F\n",
    "\n",
    "\n",
    "import os"
   ]
  },
  {
   "cell_type": "code",
   "execution_count": 2,
   "id": "f4c0a571",
   "metadata": {
    "execution": {
     "iopub.execute_input": "2024-04-16T10:51:22.216175Z",
     "iopub.status.busy": "2024-04-16T10:51:22.215226Z",
     "iopub.status.idle": "2024-04-16T10:51:22.222240Z",
     "shell.execute_reply": "2024-04-16T10:51:22.221152Z"
    },
    "papermill": {
     "duration": 0.017371,
     "end_time": "2024-04-16T10:51:22.224572",
     "exception": false,
     "start_time": "2024-04-16T10:51:22.207201",
     "status": "completed"
    },
    "tags": []
   },
   "outputs": [
    {
     "name": "stdout",
     "output_type": "stream",
     "text": [
      "Using cpu device\n"
     ]
    }
   ],
   "source": [
    "device = (\n",
    "    \"cuda\"\n",
    "    if torch.cuda.is_available()\n",
    "    else \"mps\"\n",
    "    if torch.backends.mps.is_available()\n",
    "    else \"cpu\"\n",
    ")\n",
    "print(f\"Using {device} device\")"
   ]
  },
  {
   "cell_type": "markdown",
   "id": "951d0628",
   "metadata": {
    "papermill": {
     "duration": 0.005877,
     "end_time": "2024-04-16T10:51:22.236699",
     "exception": false,
     "start_time": "2024-04-16T10:51:22.230822",
     "status": "completed"
    },
    "tags": []
   },
   "source": [
    "# Data Processing"
   ]
  },
  {
   "cell_type": "code",
   "execution_count": 3,
   "id": "ef6575c4",
   "metadata": {
    "execution": {
     "iopub.execute_input": "2024-04-16T10:51:22.251462Z",
     "iopub.status.busy": "2024-04-16T10:51:22.251026Z",
     "iopub.status.idle": "2024-04-16T10:51:22.553920Z",
     "shell.execute_reply": "2024-04-16T10:51:22.552909Z"
    },
    "papermill": {
     "duration": 0.313581,
     "end_time": "2024-04-16T10:51:22.556591",
     "exception": false,
     "start_time": "2024-04-16T10:51:22.243010",
     "status": "completed"
    },
    "tags": []
   },
   "outputs": [
    {
     "name": "stdout",
     "output_type": "stream",
     "text": [
      "       eeg_id  eeg_sub_id  eeg_label_offset_seconds  spectrogram_id  \\\n",
      "0  1628180742           0                       0.0          353733   \n",
      "1  2277392603           0                       0.0          924234   \n",
      "2   722738444           0                       0.0          999431   \n",
      "3   387987538           0                       0.0         1084844   \n",
      "4  2175806584           0                       0.0         1219001   \n",
      "\n",
      "   spectrogram_sub_id  spectrogram_label_offset_seconds    label_id  \\\n",
      "0                   0                               0.0   127492639   \n",
      "1                   0                               0.0  1978807404   \n",
      "2                   0                               0.0   557980729   \n",
      "3                   0                               0.0  4099147263   \n",
      "4                   0                               0.0  1963161945   \n",
      "\n",
      "   patient_id expert_consensus  seizure_vote  lpd_vote  gpd_vote  lrda_vote  \\\n",
      "0       42516          Seizure             3         0         0          0   \n",
      "1       30539              GPD             0         0         5          0   \n",
      "2       56885             LRDA             0         1         0         14   \n",
      "3        4264             LRDA             0         0         0          3   \n",
      "4       23435          Seizure             3         0         0          0   \n",
      "\n",
      "   grda_vote  other_vote  \n",
      "0          0           0  \n",
      "1          1           5  \n",
      "2          0           1  \n",
      "3          0           0  \n",
      "4          0           0  \n",
      "(13671, 15)\n",
      "(3418, 15)\n"
     ]
    }
   ],
   "source": [
    "# importing train.csv data and modifying entries to remove duplicate and reset index\n",
    "\n",
    "eeg_y = pd.read_csv('/kaggle/input/hms-harmful-brain-activity-classification/train.csv')\n",
    "eeg_y = eeg_y.drop_duplicates(subset='eeg_id', keep='first') # There are duplicate entries in the csv for different timestamps. For our case we can just take the first occurance.\n",
    "eeg_y = eeg_y.reset_index(drop=True) # Index will be fragmented after dropping duplicate, so we reassign each entry a new index starting from 0 to n.        \n",
    "\n",
    "# split eeg_y into train and test split\n",
    "eeg_train_y, eeg_test_y = train_test_split(eeg_y, test_size=0.2, shuffle=True)\n",
    "\n",
    "print(eeg_y.head())\n",
    "print(eeg_train_y.shape)\n",
    "print(eeg_test_y.shape)\n"
   ]
  },
  {
   "cell_type": "code",
   "execution_count": 4,
   "id": "c1aa7b67",
   "metadata": {
    "execution": {
     "iopub.execute_input": "2024-04-16T10:51:22.572222Z",
     "iopub.status.busy": "2024-04-16T10:51:22.571797Z",
     "iopub.status.idle": "2024-04-16T10:53:01.370215Z",
     "shell.execute_reply": "2024-04-16T10:53:01.367598Z"
    },
    "papermill": {
     "duration": 98.813234,
     "end_time": "2024-04-16T10:53:01.376436",
     "exception": false,
     "start_time": "2024-04-16T10:51:22.563202",
     "status": "completed"
    },
    "tags": []
   },
   "outputs": [],
   "source": [
    "# import eeg data as dictionary from dict notebook\n",
    "# This is a lot faster than loading the data from kaggle into a new dictionary.\n",
    "eeg_data_dict = {}\n",
    "with open('/kaggle/input/notebook01c73f822d/saved_eeg_dict.pkl', 'rb') as f:\n",
    "    eeg_data_dict = pickle.load(f)"
   ]
  },
  {
   "cell_type": "code",
   "execution_count": 5,
   "id": "97a62ec2",
   "metadata": {
    "execution": {
     "iopub.execute_input": "2024-04-16T10:53:01.397080Z",
     "iopub.status.busy": "2024-04-16T10:53:01.395689Z",
     "iopub.status.idle": "2024-04-16T10:53:01.721923Z",
     "shell.execute_reply": "2024-04-16T10:53:01.720571Z"
    },
    "papermill": {
     "duration": 0.339947,
     "end_time": "2024-04-16T10:53:01.726307",
     "exception": false,
     "start_time": "2024-04-16T10:53:01.386360",
     "status": "completed"
    },
    "tags": []
   },
   "outputs": [
    {
     "data": {
      "image/png": "[encoded data removed]",
      "text/plain": [
       "<Figure size 640x480 with 1 Axes>"
      ]
     },
     "metadata": {},
     "output_type": "display_data"
    }
   ],
   "source": [
    "# plot unfiltered and un-normalized data\n",
    "plt.plot(next(iter(eeg_data_dict.values()))[:, 0])\n",
    "plt.show()"
   ]
  },
  {
   "cell_type": "code",
   "execution_count": 6,
   "id": "8b4adc1a",
   "metadata": {
    "execution": {
     "iopub.execute_input": "2024-04-16T10:53:01.743750Z",
     "iopub.status.busy": "2024-04-16T10:53:01.743026Z",
     "iopub.status.idle": "2024-04-16T10:53:01.751341Z",
     "shell.execute_reply": "2024-04-16T10:53:01.750233Z"
    },
    "papermill": {
     "duration": 0.020191,
     "end_time": "2024-04-16T10:53:01.753919",
     "exception": false,
     "start_time": "2024-04-16T10:53:01.733728",
     "status": "completed"
    },
    "tags": []
   },
   "outputs": [
    {
     "name": "stdout",
     "output_type": "stream",
     "text": [
      "17089\n",
      "[[ -75.36   92.37   65.47 ...  -42.16  121.24   72.55]\n",
      " [-107.74   59.07   32.59 ...  -80.43   88.4    40.25]\n",
      " [-103.05   50.95   10.75 ...  -93.09   51.69   31.82]\n",
      " ...\n",
      " [-141.6   -47.55 -120.6  ... -145.94    2.19  -19.32]\n",
      " [-155.55  -60.48 -116.54 ... -138.28   28.15  -21.1 ]\n",
      " [-184.43 -107.31 -161.08 ... -169.9   -15.49  -55.96]]\n",
      "8\n",
      "8\n",
      "8\n",
      "hi\n"
     ]
    }
   ],
   "source": [
    "print(len(eeg_data_dict))\n",
    "print(eeg_data_dict[568657])\n",
    "print(len(eeg_data_dict[568657][0]))\n",
    "print(len(eeg_data_dict[568657][1]))\n",
    "print(len(eeg_data_dict[568657][2]))\n",
    "\n",
    "print(\"hi\")"
   ]
  },
  {
   "cell_type": "code",
   "execution_count": 7,
   "id": "bef3e536",
   "metadata": {
    "execution": {
     "iopub.execute_input": "2024-04-16T10:53:01.770133Z",
     "iopub.status.busy": "2024-04-16T10:53:01.769711Z",
     "iopub.status.idle": "2024-04-16T10:53:01.783537Z",
     "shell.execute_reply": "2024-04-16T10:53:01.781954Z"
    },
    "papermill": {
     "duration": 0.025899,
     "end_time": "2024-04-16T10:53:01.786795",
     "exception": false,
     "start_time": "2024-04-16T10:53:01.760896",
     "status": "completed"
    },
    "tags": []
   },
   "outputs": [],
   "source": [
    "# apply frequency filter to eeg data\n",
    "# Keep frequency within 1hz to 40hz\n",
    "sos = signal.butter(3, [1, 40], 'bandpass', fs=200, output='sos') # this is the filter, we will apply it below with signal.sosfilt()"
   ]
  },
  {
   "cell_type": "markdown",
   "id": "2015e3de",
   "metadata": {
    "papermill": {
     "duration": 0.006818,
     "end_time": "2024-04-16T10:53:01.801026",
     "exception": false,
     "start_time": "2024-04-16T10:53:01.794208",
     "status": "completed"
    },
    "tags": []
   },
   "source": [
    "## Dataset and Dataloader"
   ]
  },
  {
   "cell_type": "code",
   "execution_count": 8,
   "id": "02a34686",
   "metadata": {
    "execution": {
     "iopub.execute_input": "2024-04-16T10:53:01.820819Z",
     "iopub.status.busy": "2024-04-16T10:53:01.820389Z",
     "iopub.status.idle": "2024-04-16T10:53:01.830793Z",
     "shell.execute_reply": "2024-04-16T10:53:01.829783Z"
    },
    "papermill": {
     "duration": 0.024633,
     "end_time": "2024-04-16T10:53:01.832881",
     "exception": false,
     "start_time": "2024-04-16T10:53:01.808248",
     "status": "completed"
    },
    "tags": []
   },
   "outputs": [],
   "source": [
    "# Custom dataset\n",
    "class EEGDataset(Dataset):\n",
    "    def __init__(self, eeg_y, eeg_data_dict, transform=None, target_transform=None):\n",
    "        self.eeg_labels = eeg_y\n",
    "        self.eeg_data_dict = eeg_data_dict\n",
    "#         self.transform = transform\n",
    "#         self.target_transform = target_transform\n",
    "    \n",
    "    def __len__(self): # number of samples in our dataset\n",
    "        return len(self.eeg_labels)\n",
    "    \n",
    "    def __getitem__(self, idx): # loads and returns a sample at index idx.\n",
    "        # convert votes to probability distribution vector\n",
    "        votes = eeg_y.loc[idx, ['seizure_vote', 'lpd_vote', 'gpd_vote', 'lrda_vote', 'grda_vote', 'other_vote']].to_numpy()\n",
    "        total_vote = np.sum(votes)\n",
    "        label = votes / total_vote\n",
    "        label = torch.tensor(np.array(label, dtype=np.float32))\n",
    "        \n",
    "        eeg = eeg_data_dict.get(eeg_y.loc[idx, 'eeg_id'])\n",
    "        \n",
    "        # we need to crop the eeg to 50 seconds, starting from the offset specified in eeg_label_offset_seconds\n",
    "        offset_index = int(eeg_y.loc[idx, 'eeg_label_offset_seconds']) * 200\n",
    "        end_index = offset_index + 10000\n",
    "        eeg = eeg[offset_index: end_index, ] # select 50 second of data\n",
    "        eeg = np.nan_to_num(eeg)\n",
    "        # apply sosfilt and minmax normalization to eeg data\n",
    "        sos_eeg = signal.sosfilt(sos, eeg, axis=0)\n",
    "        normalized_eeg = minmax_scale(sos_eeg, axis=0)\n",
    "        normalized_eeg = np.transpose(normalized_eeg, (1,0))\n",
    "        normalized_eeg = torch.tensor(normalized_eeg)\n",
    "        \n",
    "#         if self.transform:\n",
    "#             normalized_eeg = self.transform(normalized_eeg)\n",
    "#         if self.target_transform:\n",
    "#             label = self.target_transform(label)\n",
    "        \n",
    "        return normalized_eeg, label"
   ]
  },
  {
   "cell_type": "code",
   "execution_count": 9,
   "id": "fea9d5fe",
   "metadata": {
    "execution": {
     "iopub.execute_input": "2024-04-16T10:53:01.851617Z",
     "iopub.status.busy": "2024-04-16T10:53:01.849828Z",
     "iopub.status.idle": "2024-04-16T10:53:01.856036Z",
     "shell.execute_reply": "2024-04-16T10:53:01.854746Z"
    },
    "papermill": {
     "duration": 0.018254,
     "end_time": "2024-04-16T10:53:01.858439",
     "exception": false,
     "start_time": "2024-04-16T10:53:01.840185",
     "status": "completed"
    },
    "tags": []
   },
   "outputs": [],
   "source": [
    "eeg_train_data_set = EEGDataset(eeg_train_y, eeg_data_dict)\n",
    "eeg_test_data_set = EEGDataset(eeg_test_y, eeg_data_dict)"
   ]
  },
  {
   "cell_type": "code",
   "execution_count": 10,
   "id": "a13a9b9e",
   "metadata": {
    "execution": {
     "iopub.execute_input": "2024-04-16T10:53:01.874631Z",
     "iopub.status.busy": "2024-04-16T10:53:01.874181Z",
     "iopub.status.idle": "2024-04-16T10:53:02.054200Z",
     "shell.execute_reply": "2024-04-16T10:53:02.052928Z"
    },
    "papermill": {
     "duration": 0.19139,
     "end_time": "2024-04-16T10:53:02.057032",
     "exception": false,
     "start_time": "2024-04-16T10:53:01.865642",
     "status": "completed"
    },
    "tags": []
   },
   "outputs": [
    {
     "name": "stdout",
     "output_type": "stream",
     "text": [
      "torch.Size([8, 10000]) tensor([1., 0., 0., 0., 0., 0.])\n",
      "tensor([[0.4501, 0.2896, 0.0871,  ..., 0.3595, 0.3867, 0.4329],\n",
      "        [0.5408, 0.3469, 0.1009,  ..., 0.4818, 0.5450, 0.6006],\n",
      "        [0.4893, 0.3164, 0.0955,  ..., 0.4070, 0.3044, 0.3489],\n",
      "        ...,\n",
      "        [0.5173, 0.3423, 0.1125,  ..., 0.5322, 0.6728, 0.7873],\n",
      "        [0.4590, 0.2888, 0.0808,  ..., 0.6181, 0.5119, 0.4188],\n",
      "        [0.5750, 0.3661, 0.1058,  ..., 0.7476, 0.7572, 0.7674]],\n",
      "       dtype=torch.float64)\n"
     ]
    }
   ],
   "source": [
    "normalized_eeg, label = eeg_train_data_set[0]\n",
    "print(normalized_eeg.shape, label)\n",
    "print(normalized_eeg)"
   ]
  },
  {
   "cell_type": "code",
   "execution_count": 11,
   "id": "b01db128",
   "metadata": {
    "execution": {
     "iopub.execute_input": "2024-04-16T10:53:02.074857Z",
     "iopub.status.busy": "2024-04-16T10:53:02.073597Z",
     "iopub.status.idle": "2024-04-16T10:53:02.079466Z",
     "shell.execute_reply": "2024-04-16T10:53:02.078555Z"
    },
    "papermill": {
     "duration": 0.017021,
     "end_time": "2024-04-16T10:53:02.081649",
     "exception": false,
     "start_time": "2024-04-16T10:53:02.064628",
     "status": "completed"
    },
    "tags": []
   },
   "outputs": [],
   "source": [
    "# plt.plot(normalized_eeg)\n",
    "# plt.show()"
   ]
  },
  {
   "cell_type": "code",
   "execution_count": 12,
   "id": "3651eb9e",
   "metadata": {
    "execution": {
     "iopub.execute_input": "2024-04-16T10:53:02.099891Z",
     "iopub.status.busy": "2024-04-16T10:53:02.098352Z",
     "iopub.status.idle": "2024-04-16T10:53:02.104360Z",
     "shell.execute_reply": "2024-04-16T10:53:02.103187Z"
    },
    "papermill": {
     "duration": 0.017753,
     "end_time": "2024-04-16T10:53:02.106843",
     "exception": false,
     "start_time": "2024-04-16T10:53:02.089090",
     "status": "completed"
    },
    "tags": []
   },
   "outputs": [],
   "source": [
    "# print(train_dataloader)\n",
    "# print(len(train_dataloader))"
   ]
  },
  {
   "cell_type": "markdown",
   "id": "f7fba233",
   "metadata": {
    "papermill": {
     "duration": 0.006994,
     "end_time": "2024-04-16T10:53:02.121229",
     "exception": false,
     "start_time": "2024-04-16T10:53:02.114235",
     "status": "completed"
    },
    "tags": []
   },
   "source": [
    "# Convolution Neural Network"
   ]
  },
  {
   "cell_type": "code",
   "execution_count": 13,
   "id": "927c06ea",
   "metadata": {
    "execution": {
     "iopub.execute_input": "2024-04-16T10:53:02.138373Z",
     "iopub.status.busy": "2024-04-16T10:53:02.137705Z",
     "iopub.status.idle": "2024-04-16T10:53:02.156949Z",
     "shell.execute_reply": "2024-04-16T10:53:02.156107Z"
    },
    "papermill": {
     "duration": 0.031343,
     "end_time": "2024-04-16T10:53:02.159798",
     "exception": false,
     "start_time": "2024-04-16T10:53:02.128455",
     "status": "completed"
    },
    "tags": []
   },
   "outputs": [],
   "source": [
    "class ConvolutionNeuralNetwork1D(nn.Module):\n",
    "    def __init__(self, num_classes=6):\n",
    "        super().__init__() # Inherit from nn.Module\n",
    "        \n",
    "        # https://pytorch.org/docs/stable/generated/torch.nn.Conv1d.html <-- Conv1d documentation\n",
    "        self.flatten = nn.Flatten()\n",
    "        self.layer_stack = nn.Sequential(\n",
    "            # Modified VGG-19 model for 1D convolution\n",
    "            \n",
    "            # block1: 2 conv - 1 maxpool\n",
    "            nn.Conv1d(8, 64, kernel_size=3, padding=1), # 8 = number of channels, 64 = number of filters that we output (we can adjust this), kernel_size=3 because we dont have a lot to work with, padding = 1 to maintain shape of input so it doesn't reduce length too quickly\n",
    "            nn.ReLU(inplace=True),\n",
    "            nn.Conv1d(64, 64, kernel_size=3, padding=1),\n",
    "            nn.ReLU(inplace=True),\n",
    "            nn.MaxPool1d(kernel_size=2, stride=2),\n",
    "            \n",
    "            # block2: 2 conv - 1maxpool\n",
    "            nn.Conv1d(64, 128, kernel_size=3, padding=1),\n",
    "            nn.ReLU(inplace=True),\n",
    "            nn.Conv1d(128, 128, kernel_size=3, padding=1),\n",
    "            nn.ReLU(inplace=True),\n",
    "            nn.MaxPool1d(kernel_size=2, stride=2),\n",
    "            \n",
    "            # block3: 4 conv - 1 maxpool\n",
    "            nn.Conv1d(128, 256, kernel_size=3, padding=1),\n",
    "            nn.ReLU(inplace=True),\n",
    "            nn.Conv1d(256, 256, kernel_size=3, padding=1),\n",
    "            nn.ReLU(inplace=True),\n",
    "            nn.Conv1d(256, 256, kernel_size=3, padding=1),\n",
    "            nn.ReLU(inplace=True),\n",
    "            nn.Conv1d(256, 256, kernel_size=3, padding=1),\n",
    "            nn.ReLU(inplace=True),\n",
    "            nn.MaxPool1d(kernel_size=2, stride=2),\n",
    "            \n",
    "            # block4: 4 conv - 1 maxpool\n",
    "            nn.Conv1d(256, 512, kernel_size=3, padding=1),\n",
    "            nn.ReLU(inplace=True),\n",
    "            nn.Conv1d(512, 512, kernel_size=3, padding=1),\n",
    "            nn.ReLU(inplace=True),\n",
    "            nn.Conv1d(512, 512, kernel_size=3, padding=1),\n",
    "            nn.ReLU(inplace=True),\n",
    "            nn.Conv1d(512, 512, kernel_size=3, padding=1),\n",
    "            nn.ReLU(inplace=True),\n",
    "            nn.MaxPool1d(kernel_size=2, stride=2),\n",
    "            \n",
    "            # block5: 4 conv - 1 maxpool\n",
    "            nn.Conv1d(512, 512, kernel_size=3, padding=1),\n",
    "            nn.ReLU(inplace=True),\n",
    "            nn.Conv1d(512, 512, kernel_size=3, padding=1),\n",
    "            nn.ReLU(inplace=True),\n",
    "            nn.Conv1d(512, 512, kernel_size=3, padding=1),\n",
    "            nn.ReLU(inplace=True),\n",
    "            nn.Conv1d(512, 512, kernel_size=3, padding=1),\n",
    "            nn.ReLU(inplace=True),\n",
    "            nn.MaxPool1d(kernel_size=2, stride=2),\n",
    "        )\n",
    "        \n",
    "        self.avgpool = nn.AdaptiveAvgPool1d(7)\n",
    "\n",
    "        self.classifier = nn.Sequential(\n",
    "            nn.Linear(512 * 7, 4096),\n",
    "            nn.ReLU(inplace=True),\n",
    "            nn.Dropout(),\n",
    "            nn.Linear(4096, 4096),\n",
    "            nn.ReLU(inplace=True),\n",
    "            nn.Dropout(),\n",
    "            nn.Linear(4096, num_classes),\n",
    "        )\n",
    "    \n",
    "    def forward(self, x: torch.Tensor):\n",
    "        x = self.layer_stack(x)\n",
    "        x = self.avgpool(x)\n",
    "        x = torch.flatten(x, 1) # Flatten starting from the second dimension\n",
    "        logits = self.classifier(x)\n",
    "    \n",
    "        return logits\n",
    "\n",
    "    "
   ]
  },
  {
   "cell_type": "markdown",
   "id": "6c96f035",
   "metadata": {
    "papermill": {
     "duration": 0.007391,
     "end_time": "2024-04-16T10:53:02.174806",
     "exception": false,
     "start_time": "2024-04-16T10:53:02.167415",
     "status": "completed"
    },
    "tags": []
   },
   "source": [
    "# Training Loop"
   ]
  },
  {
   "cell_type": "code",
   "execution_count": 14,
   "id": "65ebe5ee",
   "metadata": {
    "execution": {
     "iopub.execute_input": "2024-04-16T10:53:02.191828Z",
     "iopub.status.busy": "2024-04-16T10:53:02.191184Z",
     "iopub.status.idle": "2024-04-16T10:53:02.197283Z",
     "shell.execute_reply": "2024-04-16T10:53:02.196029Z"
    },
    "papermill": {
     "duration": 0.017733,
     "end_time": "2024-04-16T10:53:02.199852",
     "exception": false,
     "start_time": "2024-04-16T10:53:02.182119",
     "status": "completed"
    },
    "tags": []
   },
   "outputs": [],
   "source": [
    "# Dataloader\n",
    "# Purpose: split the dataset up into mini batches because the hardware cannot store tens of thoasands of data in memory at one time.\n",
    "train_dataloader = DataLoader(eeg_train_data_set, batch_size=64, shuffle=True)\n",
    "test_dataloader = DataLoader(eeg_test_data_set, batch_size=64, shuffle=True)"
   ]
  },
  {
   "cell_type": "code",
   "execution_count": 15,
   "id": "297e5b2f",
   "metadata": {
    "execution": {
     "iopub.execute_input": "2024-04-16T10:53:02.216607Z",
     "iopub.status.busy": "2024-04-16T10:53:02.216170Z",
     "iopub.status.idle": "2024-04-16T10:53:02.575937Z",
     "shell.execute_reply": "2024-04-16T10:53:02.574023Z"
    },
    "papermill": {
     "duration": 0.37115,
     "end_time": "2024-04-16T10:53:02.578447",
     "exception": false,
     "start_time": "2024-04-16T10:53:02.207297",
     "status": "completed"
    },
    "tags": []
   },
   "outputs": [
    {
     "name": "stdout",
     "output_type": "stream",
     "text": [
      "EEG torch.Size([64, 8, 10000])\n",
      "Labels torch.Size([64, 6])\n"
     ]
    }
   ],
   "source": [
    "train_eeg_batch, train_labels_batch = next(iter(train_dataloader))\n",
    "print(f\"EEG {train_eeg_batch.shape}\")\n",
    "print(f\"Labels {train_labels_batch.shape}\")\n"
   ]
  },
  {
   "cell_type": "code",
   "execution_count": 16,
   "id": "2453bdb8",
   "metadata": {
    "execution": {
     "iopub.execute_input": "2024-04-16T10:53:02.595708Z",
     "iopub.status.busy": "2024-04-16T10:53:02.595018Z",
     "iopub.status.idle": "2024-04-16T10:53:03.175277Z",
     "shell.execute_reply": "2024-04-16T10:53:03.174081Z"
    },
    "papermill": {
     "duration": 0.592024,
     "end_time": "2024-04-16T10:53:03.177924",
     "exception": false,
     "start_time": "2024-04-16T10:53:02.585900",
     "status": "completed"
    },
    "tags": []
   },
   "outputs": [
    {
     "name": "stdout",
     "output_type": "stream",
     "text": [
      "model =  ConvolutionNeuralNetwork1D(\n",
      "  (flatten): Flatten(start_dim=1, end_dim=-1)\n",
      "  (layer_stack): Sequential(\n",
      "    (0): Conv1d(8, 64, kernel_size=(3,), stride=(1,), padding=(1,))\n",
      "    (1): ReLU(inplace=True)\n",
      "    (2): Conv1d(64, 64, kernel_size=(3,), stride=(1,), padding=(1,))\n",
      "    (3): ReLU(inplace=True)\n",
      "    (4): MaxPool1d(kernel_size=2, stride=2, padding=0, dilation=1, ceil_mode=False)\n",
      "    (5): Conv1d(64, 128, kernel_size=(3,), stride=(1,), padding=(1,))\n",
      "    (6): ReLU(inplace=True)\n",
      "    (7): Conv1d(128, 128, kernel_size=(3,), stride=(1,), padding=(1,))\n",
      "    (8): ReLU(inplace=True)\n",
      "    (9): MaxPool1d(kernel_size=2, stride=2, padding=0, dilation=1, ceil_mode=False)\n",
      "    (10): Conv1d(128, 256, kernel_size=(3,), stride=(1,), padding=(1,))\n",
      "    (11): ReLU(inplace=True)\n",
      "    (12): Conv1d(256, 256, kernel_size=(3,), stride=(1,), padding=(1,))\n",
      "    (13): ReLU(inplace=True)\n",
      "    (14): Conv1d(256, 256, kernel_size=(3,), stride=(1,), padding=(1,))\n",
      "    (15): ReLU(inplace=True)\n",
      "    (16): Conv1d(256, 256, kernel_size=(3,), stride=(1,), padding=(1,))\n",
      "    (17): ReLU(inplace=True)\n",
      "    (18): MaxPool1d(kernel_size=2, stride=2, padding=0, dilation=1, ceil_mode=False)\n",
      "    (19): Conv1d(256, 512, kernel_size=(3,), stride=(1,), padding=(1,))\n",
      "    (20): ReLU(inplace=True)\n",
      "    (21): Conv1d(512, 512, kernel_size=(3,), stride=(1,), padding=(1,))\n",
      "    (22): ReLU(inplace=True)\n",
      "    (23): Conv1d(512, 512, kernel_size=(3,), stride=(1,), padding=(1,))\n",
      "    (24): ReLU(inplace=True)\n",
      "    (25): Conv1d(512, 512, kernel_size=(3,), stride=(1,), padding=(1,))\n",
      "    (26): ReLU(inplace=True)\n",
      "    (27): MaxPool1d(kernel_size=2, stride=2, padding=0, dilation=1, ceil_mode=False)\n",
      "    (28): Conv1d(512, 512, kernel_size=(3,), stride=(1,), padding=(1,))\n",
      "    (29): ReLU(inplace=True)\n",
      "    (30): Conv1d(512, 512, kernel_size=(3,), stride=(1,), padding=(1,))\n",
      "    (31): ReLU(inplace=True)\n",
      "    (32): Conv1d(512, 512, kernel_size=(3,), stride=(1,), padding=(1,))\n",
      "    (33): ReLU(inplace=True)\n",
      "    (34): Conv1d(512, 512, kernel_size=(3,), stride=(1,), padding=(1,))\n",
      "    (35): ReLU(inplace=True)\n",
      "    (36): MaxPool1d(kernel_size=2, stride=2, padding=0, dilation=1, ceil_mode=False)\n",
      "  )\n",
      "  (avgpool): AdaptiveAvgPool1d(output_size=7)\n",
      "  (classifier): Sequential(\n",
      "    (0): Linear(in_features=3584, out_features=4096, bias=True)\n",
      "    (1): ReLU(inplace=True)\n",
      "    (2): Dropout(p=0.5, inplace=False)\n",
      "    (3): Linear(in_features=4096, out_features=4096, bias=True)\n",
      "    (4): ReLU(inplace=True)\n",
      "    (5): Dropout(p=0.5, inplace=False)\n",
      "    (6): Linear(in_features=4096, out_features=6, bias=True)\n",
      "  )\n",
      ")\n"
     ]
    }
   ],
   "source": [
    "model = ConvolutionNeuralNetwork1D().to(device)\n",
    "print(\"model = \", model)\n",
    "\n",
    "learning_rate = 0.01\n",
    "criterion = nn.KLDivLoss(reduction=\"batchmean\")\n",
    "optimizer = torch.optim.SGD(model.parameters(), lr=learning_rate) # SGD = stochastic gradient descent\n",
    "# how many parameters should we have?"
   ]
  },
  {
   "cell_type": "code",
   "execution_count": 17,
   "id": "6cf69f91",
   "metadata": {
    "execution": {
     "iopub.execute_input": "2024-04-16T10:53:03.195169Z",
     "iopub.status.busy": "2024-04-16T10:53:03.194141Z",
     "iopub.status.idle": "2024-04-16T10:53:03.203009Z",
     "shell.execute_reply": "2024-04-16T10:53:03.201345Z"
    },
    "papermill": {
     "duration": 0.020606,
     "end_time": "2024-04-16T10:53:03.205837",
     "exception": false,
     "start_time": "2024-04-16T10:53:03.185231",
     "status": "completed"
    },
    "tags": []
   },
   "outputs": [],
   "source": [
    "def train_step(model, dataloader, criterion, optimizer, device=device):\n",
    "    model.train() # set model to training mode    \n",
    "    train_loss = 0\n",
    "    for batch, (X, y) in enumerate(dataloader):\n",
    "#     X, y = next(iter(dataloader))\n",
    "        X, y = X.to(device), y.to(device)\n",
    "        X = X.float()\n",
    "    #     print(f\"y: {y}\")\n",
    "        # zero the param gradients\n",
    "        optimizer.zero_grad()\n",
    "\n",
    "        # forward pass\n",
    "        y_pred = model(X)\n",
    "        m = nn.LogSoftmax(dim=1)\n",
    "        y_pred_log_softmax = m(y_pred)  # Apply softmax\n",
    "\n",
    "        # calculate loss (per batch)\n",
    "\n",
    "        loss = criterion(y_pred_log_softmax, y)\n",
    "        train_loss += loss.item()\n",
    "\n",
    "        # loss backward\n",
    "        loss.backward()\n",
    "\n",
    "        # optimize\n",
    "        optimizer.step()\n",
    "\n",
    "    train_loss /= len(dataloader)\n",
    "    print(f\"Loss: {train_loss:.5f}\")"
   ]
  },
  {
   "cell_type": "code",
   "execution_count": 18,
   "id": "33041208",
   "metadata": {
    "execution": {
     "iopub.execute_input": "2024-04-16T10:53:03.223585Z",
     "iopub.status.busy": "2024-04-16T10:53:03.223140Z",
     "iopub.status.idle": "2024-04-16T19:38:00.160762Z",
     "shell.execute_reply": "2024-04-16T19:38:00.156225Z"
    },
    "papermill": {
     "duration": 31496.984418,
     "end_time": "2024-04-16T19:38:00.198146",
     "exception": false,
     "start_time": "2024-04-16T10:53:03.213728",
     "status": "completed"
    },
    "tags": []
   },
   "outputs": [
    {
     "name": "stdout",
     "output_type": "stream",
     "text": [
      "Epoch: 0\n",
      "----------------------\n",
      "Loss: 1.39421\n",
      "Epoch: 1\n",
      "----------------------\n",
      "Loss: 1.30720\n",
      "Epoch: 2\n",
      "----------------------\n",
      "Loss: 1.29089\n",
      "Epoch: 3\n",
      "----------------------\n",
      "Loss: 1.28805\n"
     ]
    }
   ],
   "source": [
    "num_epoch = 4\n",
    "for epoch in range(num_epoch):\n",
    "    print(f\"Epoch: {epoch}\\n----------------------\")\n",
    "    train_step(model, train_dataloader, criterion, optimizer)"
   ]
  },
  {
   "cell_type": "code",
   "execution_count": 19,
   "id": "a0c3404a",
   "metadata": {
    "execution": {
     "iopub.execute_input": "2024-04-16T19:38:00.222823Z",
     "iopub.status.busy": "2024-04-16T19:38:00.222223Z",
     "iopub.status.idle": "2024-04-16T19:40:17.558886Z",
     "shell.execute_reply": "2024-04-16T19:40:17.557454Z"
    },
    "papermill": {
     "duration": 137.355866,
     "end_time": "2024-04-16T19:40:17.562743",
     "exception": false,
     "start_time": "2024-04-16T19:38:00.206877",
     "status": "completed"
    },
    "tags": []
   },
   "outputs": [],
   "source": [
    "# 2dd spectrogram area\n",
    "spectro_data_dict = {}\n",
    "with open('/kaggle/input/spectro-dict/saved_spectro_dict.pkl', 'rb') as f:\n",
    "    spectro_data_dict = pickle.load(f)\n",
    "\n",
    "spectro_y = pd.read_csv('/kaggle/input/hms-harmful-brain-activity-classification/train.csv')\n",
    "spectro_y = spectro_y.drop_duplicates(subset='spectrogram_id', keep='first')\n",
    "spectro_y = spectro_y.reset_index(drop=True)"
   ]
  },
  {
   "cell_type": "code",
   "execution_count": 20,
   "id": "6b5ff06b",
   "metadata": {
    "execution": {
     "iopub.execute_input": "2024-04-16T19:40:17.582987Z",
     "iopub.status.busy": "2024-04-16T19:40:17.581758Z",
     "iopub.status.idle": "2024-04-16T19:40:17.597104Z",
     "shell.execute_reply": "2024-04-16T19:40:17.595876Z"
    },
    "papermill": {
     "duration": 0.028099,
     "end_time": "2024-04-16T19:40:17.600070",
     "exception": false,
     "start_time": "2024-04-16T19:40:17.571971",
     "status": "completed"
    },
    "tags": []
   },
   "outputs": [],
   "source": [
    "\n",
    "spectro_train_y, spectro_test_y = train_test_split(spectro_y, test_size=0.2, shuffle=True)"
   ]
  },
  {
   "cell_type": "markdown",
   "id": "682945f2",
   "metadata": {
    "papermill": {
     "duration": 0.007683,
     "end_time": "2024-04-16T19:40:17.615955",
     "exception": false,
     "start_time": "2024-04-16T19:40:17.608272",
     "status": "completed"
    },
    "tags": []
   },
   "source": [
    "print(spectro_data_dict)"
   ]
  }
 ],
 "metadata": {
  "kaggle": {
   "accelerator": "none",
   "dataSources": [
    {
     "databundleVersionId": 7469972,
     "sourceId": 59093,
     "sourceType": "competition"
    },
    {
     "sourceId": 169204395,
     "sourceType": "kernelVersion"
    },
    {
     "sourceId": 172245413,
     "sourceType": "kernelVersion"
    }
   ],
   "dockerImageVersionId": 30673,
   "isGpuEnabled": false,
   "isInternetEnabled": true,
   "language": "python",
   "sourceType": "notebook"
  },
  "kernelspec": {
   "display_name": "Python 3",
   "language": "python",
   "name": "python3"
  },
  "language_info": {
   "codemirror_mode": {
    "name": "ipython",
    "version": 3
   },
   "file_extension": ".py",
   "mimetype": "text/x-python",
   "name": "python",
   "nbconvert_exporter": "python",
   "pygments_lexer": "ipython3",
   "version": "3.10.13"
  },
  "papermill": {
   "default_parameters": {},
   "duration": 31753.18706,
   "end_time": "2024-04-16T19:40:22.235981",
   "environment_variables": {},
   "exception": null,
   "input_path": "__notebook__.ipynb",
   "output_path": "__notebook__.ipynb",
   "parameters": {},
   "start_time": "2024-04-16T10:51:09.048921",
   "version": "2.5.0"
  }
 },
 "nbformat": 4,
 "nbformat_minor": 5
}
