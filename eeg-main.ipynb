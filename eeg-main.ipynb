{
 "cells": [
  {
   "cell_type": "code",
   "execution_count": 1,
   "id": "459e5aa7",
   "metadata": {
    "_cell_guid": "b1076dfc-b9ad-4769-8c92-a6c4dae69d19",
    "_uuid": "8f2839f25d086af736a60e9eeb907d3b93b6e0e5",
    "execution": {
     "iopub.execute_input": "2024-03-30T21:53:35.793739Z",
     "iopub.status.busy": "2024-03-30T21:53:35.792734Z",
     "iopub.status.idle": "2024-03-30T21:53:44.584718Z",
     "shell.execute_reply": "2024-03-30T21:53:44.583457Z"
    },
    "papermill": {
     "duration": 8.803475,
     "end_time": "2024-03-30T21:53:44.587969",
     "exception": false,
     "start_time": "2024-03-30T21:53:35.784494",
     "status": "completed"
    },
    "tags": []
   },
   "outputs": [],
   "source": [
    "# imports\n",
    "import numpy as np # linear algebra\n",
    "import pandas as pd # data processing, CSV file I/O (e.g. pd.read_csv)\n",
    "import glob\n",
    "import pickle\n",
    "from scipy import signal\n",
    "import matplotlib.pyplot as plt\n",
    "from sklearn.preprocessing import minmax_scale\n",
    "from sklearn.model_selection import train_test_split\n",
    "\n",
    "import torch\n",
    "from torch import nn\n",
    "from torch.utils.data import Dataset\n",
    "from torch.utils.data import DataLoader\n",
    "from torchvision import datasets\n",
    "from torchvision.transforms import ToTensor\n",
    "\n",
    "\n",
    "import os"
   ]
  },
  {
   "cell_type": "code",
   "execution_count": 2,
   "id": "422b3998",
   "metadata": {
    "execution": {
     "iopub.execute_input": "2024-03-30T21:53:44.600714Z",
     "iopub.status.busy": "2024-03-30T21:53:44.599823Z",
     "iopub.status.idle": "2024-03-30T21:53:44.606124Z",
     "shell.execute_reply": "2024-03-30T21:53:44.605066Z"
    },
    "papermill": {
     "duration": 0.015555,
     "end_time": "2024-03-30T21:53:44.608881",
     "exception": false,
     "start_time": "2024-03-30T21:53:44.593326",
     "status": "completed"
    },
    "tags": []
   },
   "outputs": [
    {
     "name": "stdout",
     "output_type": "stream",
     "text": [
      "Using cpu device\n"
     ]
    }
   ],
   "source": [
    "device = (\n",
    "    \"cuda\"\n",
    "    if torch.cuda.is_available()\n",
    "    else \"mps\"\n",
    "    if torch.backends.mps.is_available()\n",
    "    else \"cpu\"\n",
    ")\n",
    "print(f\"Using {device} device\")"
   ]
  },
  {
   "cell_type": "code",
   "execution_count": 3,
   "id": "135b3634",
   "metadata": {
    "execution": {
     "iopub.execute_input": "2024-03-30T21:53:44.622476Z",
     "iopub.status.busy": "2024-03-30T21:53:44.620553Z",
     "iopub.status.idle": "2024-03-30T21:53:44.921215Z",
     "shell.execute_reply": "2024-03-30T21:53:44.920327Z"
    },
    "papermill": {
     "duration": 0.309348,
     "end_time": "2024-03-30T21:53:44.923730",
     "exception": false,
     "start_time": "2024-03-30T21:53:44.614382",
     "status": "completed"
    },
    "tags": []
   },
   "outputs": [
    {
     "name": "stdout",
     "output_type": "stream",
     "text": [
      "       eeg_id  eeg_sub_id  eeg_label_offset_seconds  spectrogram_id  \\\n",
      "0  1628180742           0                       0.0          353733   \n",
      "1  2277392603           0                       0.0          924234   \n",
      "2   722738444           0                       0.0          999431   \n",
      "3   387987538           0                       0.0         1084844   \n",
      "4  2175806584           0                       0.0         1219001   \n",
      "\n",
      "   spectrogram_sub_id  spectrogram_label_offset_seconds    label_id  \\\n",
      "0                   0                               0.0   127492639   \n",
      "1                   0                               0.0  1978807404   \n",
      "2                   0                               0.0   557980729   \n",
      "3                   0                               0.0  4099147263   \n",
      "4                   0                               0.0  1963161945   \n",
      "\n",
      "   patient_id expert_consensus  seizure_vote  lpd_vote  gpd_vote  lrda_vote  \\\n",
      "0       42516          Seizure             3         0         0          0   \n",
      "1       30539              GPD             0         0         5          0   \n",
      "2       56885             LRDA             0         1         0         14   \n",
      "3        4264             LRDA             0         0         0          3   \n",
      "4       23435          Seizure             3         0         0          0   \n",
      "\n",
      "   grda_vote  other_vote  \n",
      "0          0           0  \n",
      "1          1           5  \n",
      "2          0           1  \n",
      "3          0           0  \n",
      "4          0           0  \n",
      "(13671, 15)\n",
      "(3418, 15)\n"
     ]
    }
   ],
   "source": [
    "# importing train.csv data and modifying entries to remove duplicate and reset index\n",
    "\n",
    "eeg_y = pd.read_csv('/kaggle/input/hms-harmful-brain-activity-classification/train.csv')\n",
    "eeg_y = eeg_y.drop_duplicates(subset='eeg_id', keep='first') # There are duplicate entries in the csv for different timestamps. For our case we can just take the first occurance.\n",
    "eeg_y = eeg_y.reset_index(drop=True) # Index will be fragmented after dropping duplicate, so we reassign each entry a new index starting from 0 to n.        \n",
    "\n",
    "# split eeg_y into train and test split\n",
    "eeg_train_y, eeg_test_y = train_test_split(eeg_y, test_size=0.2, shuffle=True)\n",
    "\n",
    "print(eeg_y.head())\n",
    "print(eeg_train_y.shape)\n",
    "print(eeg_test_y.shape)\n"
   ]
  },
  {
   "cell_type": "code",
   "execution_count": 4,
   "id": "35c048ec",
   "metadata": {
    "execution": {
     "iopub.execute_input": "2024-03-30T21:53:44.936520Z",
     "iopub.status.busy": "2024-03-30T21:53:44.936084Z",
     "iopub.status.idle": "2024-03-30T21:55:08.168406Z",
     "shell.execute_reply": "2024-03-30T21:55:08.167028Z"
    },
    "papermill": {
     "duration": 83.242086,
     "end_time": "2024-03-30T21:55:08.171321",
     "exception": false,
     "start_time": "2024-03-30T21:53:44.929235",
     "status": "completed"
    },
    "tags": []
   },
   "outputs": [],
   "source": [
    "# import eeg data as dictionary from dict notebook\n",
    "# This is a lot faster than loading the data from kaggle into a new dictionary.\n",
    "eeg_data_dict = {}\n",
    "with open('/kaggle/input/notebook01c73f822d/saved_eeg_dict.pkl', 'rb') as f:\n",
    "    eeg_data_dict = pickle.load(f)"
   ]
  },
  {
   "cell_type": "code",
   "execution_count": 5,
   "id": "697b8315",
   "metadata": {
    "execution": {
     "iopub.execute_input": "2024-03-30T21:55:08.184960Z",
     "iopub.status.busy": "2024-03-30T21:55:08.184158Z",
     "iopub.status.idle": "2024-03-30T21:55:08.463538Z",
     "shell.execute_reply": "2024-03-30T21:55:08.462448Z"
    },
    "papermill": {
     "duration": 0.289044,
     "end_time": "2024-03-30T21:55:08.466191",
     "exception": false,
     "start_time": "2024-03-30T21:55:08.177147",
     "status": "completed"
    },
    "tags": []
   },
   "outputs": [
    {
     "data": {
      "image/png": "[encoded data removed]",
      "text/plain": [
       "<Figure size 640x480 with 1 Axes>"
      ]
     },
     "metadata": {},
     "output_type": "display_data"
    }
   ],
   "source": [
    "# plot unfiltered and un-normalized data\n",
    "plt.plot(next(iter(eeg_data_dict.values()))[:, 0])\n",
    "plt.show()"
   ]
  },
  {
   "cell_type": "code",
   "execution_count": 6,
   "id": "365813ad",
   "metadata": {
    "execution": {
     "iopub.execute_input": "2024-03-30T21:55:08.479952Z",
     "iopub.status.busy": "2024-03-30T21:55:08.479317Z",
     "iopub.status.idle": "2024-03-30T21:55:08.486492Z",
     "shell.execute_reply": "2024-03-30T21:55:08.485441Z"
    },
    "papermill": {
     "duration": 0.017189,
     "end_time": "2024-03-30T21:55:08.489174",
     "exception": false,
     "start_time": "2024-03-30T21:55:08.471985",
     "status": "completed"
    },
    "tags": []
   },
   "outputs": [
    {
     "name": "stdout",
     "output_type": "stream",
     "text": [
      "17089\n",
      "[[ -75.36   92.37   65.47 ...  -42.16  121.24   72.55]\n",
      " [-107.74   59.07   32.59 ...  -80.43   88.4    40.25]\n",
      " [-103.05   50.95   10.75 ...  -93.09   51.69   31.82]\n",
      " ...\n",
      " [-141.6   -47.55 -120.6  ... -145.94    2.19  -19.32]\n",
      " [-155.55  -60.48 -116.54 ... -138.28   28.15  -21.1 ]\n",
      " [-184.43 -107.31 -161.08 ... -169.9   -15.49  -55.96]]\n",
      "8\n",
      "8\n",
      "8\n",
      "hi\n"
     ]
    }
   ],
   "source": [
    "print(len(eeg_data_dict))\n",
    "print(eeg_data_dict[568657])\n",
    "print(len(eeg_data_dict[568657][0]))\n",
    "print(len(eeg_data_dict[568657][1]))\n",
    "print(len(eeg_data_dict[568657][2]))\n",
    "\n",
    "print(\"hi\")"
   ]
  },
  {
   "cell_type": "code",
   "execution_count": 7,
   "id": "8231dcee",
   "metadata": {
    "execution": {
     "iopub.execute_input": "2024-03-30T21:55:08.503112Z",
     "iopub.status.busy": "2024-03-30T21:55:08.502714Z",
     "iopub.status.idle": "2024-03-30T21:55:08.511514Z",
     "shell.execute_reply": "2024-03-30T21:55:08.510431Z"
    },
    "papermill": {
     "duration": 0.018335,
     "end_time": "2024-03-30T21:55:08.513668",
     "exception": false,
     "start_time": "2024-03-30T21:55:08.495333",
     "status": "completed"
    },
    "tags": []
   },
   "outputs": [],
   "source": [
    "# apply frequency filter to eeg data\n",
    "# Keep frequency within 1hz to 40hz\n",
    "sos = signal.butter(3, [1, 40], 'bandpass', fs=200, output='sos') # this is the filter, we will apply it below with signal.sosfilt()"
   ]
  },
  {
   "cell_type": "markdown",
   "id": "cc6ec06f",
   "metadata": {
    "papermill": {
     "duration": 0.005825,
     "end_time": "2024-03-30T21:55:08.525756",
     "exception": false,
     "start_time": "2024-03-30T21:55:08.519931",
     "status": "completed"
    },
    "tags": []
   },
   "source": [
    "## Dataset and Dataloader"
   ]
  },
  {
   "cell_type": "code",
   "execution_count": 8,
   "id": "5fec6e8e",
   "metadata": {
    "execution": {
     "iopub.execute_input": "2024-03-30T21:55:08.539564Z",
     "iopub.status.busy": "2024-03-30T21:55:08.539158Z",
     "iopub.status.idle": "2024-03-30T21:55:08.548479Z",
     "shell.execute_reply": "2024-03-30T21:55:08.547331Z"
    },
    "papermill": {
     "duration": 0.018969,
     "end_time": "2024-03-30T21:55:08.550584",
     "exception": false,
     "start_time": "2024-03-30T21:55:08.531615",
     "status": "completed"
    },
    "tags": []
   },
   "outputs": [],
   "source": [
    "# Custom dataset\n",
    "class EEGDataset(Dataset):\n",
    "    def __init__(self, eeg_y, eeg_data_dict, transform=None, target_transform=None):\n",
    "        self.eeg_labels = eeg_y\n",
    "        self.eeg_data_dict = eeg_data_dict\n",
    "#         self.transform = transform\n",
    "#         self.target_transform = target_transform\n",
    "    \n",
    "    def __len__(self): # number of samples in our dataset\n",
    "        return len(self.eeg_labels)\n",
    "    \n",
    "    def __getitem__(self, idx): # loads and returns a sample at index idx.\n",
    "        # convert votes to probability distribution vector\n",
    "        votes = eeg_y.loc[idx, ['seizure_vote', 'lpd_vote', 'gpd_vote', 'lrda_vote', 'grda_vote', 'other_vote']].to_numpy()\n",
    "        total_vote = np.sum(votes)\n",
    "        label = votes / total_vote\n",
    "        label = torch.tensor(np.array(label, dtype=np.float64))\n",
    "        \n",
    "        eeg = eeg_data_dict.get(eeg_y.loc[idx, 'eeg_id'])\n",
    "        \n",
    "        # we need to crop the eeg to 50 seconds, starting from the offset specified in eeg_label_offset_seconds\n",
    "        offset_index = int(eeg_y.loc[idx, 'eeg_label_offset_seconds']) * 200\n",
    "        end_index = offset_index + 10000\n",
    "        eeg = eeg[offset_index: end_index] # select 50 second of data\n",
    "        \n",
    "        # apply sosfilt and minmax normalization to eeg data\n",
    "        sos_eeg = signal.sosfilt(sos, eeg, axis=0)\n",
    "        normalized_eeg = minmax_scale(sos_eeg, axis=0)[:, 0]\n",
    "        normalized_eeg = torch.tensor(normalized_eeg)\n",
    "        \n",
    "#         if self.transform:\n",
    "#             normalized_eeg = self.transform(normalized_eeg)\n",
    "#         if self.target_transform:\n",
    "#             label = self.target_transform(label)\n",
    "        \n",
    "        return normalized_eeg, label"
   ]
  },
  {
   "cell_type": "code",
   "execution_count": 9,
   "id": "bdf37273",
   "metadata": {
    "execution": {
     "iopub.execute_input": "2024-03-30T21:55:08.564900Z",
     "iopub.status.busy": "2024-03-30T21:55:08.563856Z",
     "iopub.status.idle": "2024-03-30T21:55:08.568470Z",
     "shell.execute_reply": "2024-03-30T21:55:08.567630Z"
    },
    "papermill": {
     "duration": 0.013756,
     "end_time": "2024-03-30T21:55:08.570530",
     "exception": false,
     "start_time": "2024-03-30T21:55:08.556774",
     "status": "completed"
    },
    "tags": []
   },
   "outputs": [],
   "source": [
    "eeg_train_data_set = EEGDataset(eeg_train_y, eeg_data_dict)\n",
    "eeg_test_data_set = EEGDataset(eeg_test_y, eeg_data_dict)"
   ]
  },
  {
   "cell_type": "code",
   "execution_count": 10,
   "id": "bb49fc23",
   "metadata": {
    "execution": {
     "iopub.execute_input": "2024-03-30T21:55:08.586423Z",
     "iopub.status.busy": "2024-03-30T21:55:08.585392Z",
     "iopub.status.idle": "2024-03-30T21:55:08.689486Z",
     "shell.execute_reply": "2024-03-30T21:55:08.687793Z"
    },
    "papermill": {
     "duration": 0.113852,
     "end_time": "2024-03-30T21:55:08.691951",
     "exception": false,
     "start_time": "2024-03-30T21:55:08.578099",
     "status": "completed"
    },
    "tags": []
   },
   "outputs": [
    {
     "name": "stdout",
     "output_type": "stream",
     "text": [
      "torch.Size([10000]) tensor([1., 0., 0., 0., 0., 0.], dtype=torch.float64)\n"
     ]
    }
   ],
   "source": [
    "normalized_eeg, label = eeg_train_data_set[0]\n",
    "print(normalized_eeg.shape, label)"
   ]
  },
  {
   "cell_type": "code",
   "execution_count": null,
   "id": "e29747cb",
   "metadata": {
    "papermill": {
     "duration": 0.005677,
     "end_time": "2024-03-30T21:55:08.703457",
     "exception": false,
     "start_time": "2024-03-30T21:55:08.697780",
     "status": "completed"
    },
    "tags": []
   },
   "outputs": [],
   "source": []
  },
  {
   "cell_type": "code",
   "execution_count": 11,
   "id": "31bae2f2",
   "metadata": {
    "execution": {
     "iopub.execute_input": "2024-03-30T21:55:08.716987Z",
     "iopub.status.busy": "2024-03-30T21:55:08.716575Z",
     "iopub.status.idle": "2024-03-30T21:55:09.078356Z",
     "shell.execute_reply": "2024-03-30T21:55:09.076977Z"
    },
    "papermill": {
     "duration": 0.371595,
     "end_time": "2024-03-30T21:55:09.080876",
     "exception": false,
     "start_time": "2024-03-30T21:55:08.709281",
     "status": "completed"
    },
    "tags": []
   },
   "outputs": [
    {
     "data": {
      "image/png": "[encoded data removed]",
      "text/plain": [
       "<Figure size 640x480 with 1 Axes>"
      ]
     },
     "metadata": {},
     "output_type": "display_data"
    }
   ],
   "source": [
    "plt.plot(normalized_eeg)\n",
    "plt.show()"
   ]
  },
  {
   "cell_type": "code",
   "execution_count": 12,
   "id": "e7e4e449",
   "metadata": {
    "execution": {
     "iopub.execute_input": "2024-03-30T21:55:09.096479Z",
     "iopub.status.busy": "2024-03-30T21:55:09.096012Z",
     "iopub.status.idle": "2024-03-30T21:55:09.102548Z",
     "shell.execute_reply": "2024-03-30T21:55:09.101184Z"
    },
    "papermill": {
     "duration": 0.017236,
     "end_time": "2024-03-30T21:55:09.105025",
     "exception": false,
     "start_time": "2024-03-30T21:55:09.087789",
     "status": "completed"
    },
    "tags": []
   },
   "outputs": [],
   "source": [
    "# Dataloader\n",
    "# Purpose: split the dataset up into mini batches because the hardware cannot store tens of thoasands of data in memory at one time.\n",
    "train_dataloader = DataLoader(eeg_train_data_set, batch_size=32, shuffle=False)\n",
    "test_dataloader = DataLoader(eeg_test_data_set, batch_size=32, shuffle=False)"
   ]
  },
  {
   "cell_type": "code",
   "execution_count": 13,
   "id": "9ba4520f",
   "metadata": {
    "execution": {
     "iopub.execute_input": "2024-03-30T21:55:09.122144Z",
     "iopub.status.busy": "2024-03-30T21:55:09.121726Z",
     "iopub.status.idle": "2024-03-30T21:55:09.127662Z",
     "shell.execute_reply": "2024-03-30T21:55:09.126395Z"
    },
    "papermill": {
     "duration": 0.017096,
     "end_time": "2024-03-30T21:55:09.130096",
     "exception": false,
     "start_time": "2024-03-30T21:55:09.113000",
     "status": "completed"
    },
    "tags": []
   },
   "outputs": [
    {
     "name": "stdout",
     "output_type": "stream",
     "text": [
      "<torch.utils.data.dataloader.DataLoader object at 0x7fdb0862b790>\n",
      "428\n"
     ]
    }
   ],
   "source": [
    "print(train_dataloader)\n",
    "print(len(train_dataloader))"
   ]
  },
  {
   "cell_type": "code",
   "execution_count": 14,
   "id": "bee9edb9",
   "metadata": {
    "execution": {
     "iopub.execute_input": "2024-03-30T21:55:09.145575Z",
     "iopub.status.busy": "2024-03-30T21:55:09.145163Z",
     "iopub.status.idle": "2024-03-30T21:55:09.246665Z",
     "shell.execute_reply": "2024-03-30T21:55:09.245164Z"
    },
    "papermill": {
     "duration": 0.112118,
     "end_time": "2024-03-30T21:55:09.249255",
     "exception": false,
     "start_time": "2024-03-30T21:55:09.137137",
     "status": "completed"
    },
    "tags": []
   },
   "outputs": [
    {
     "name": "stdout",
     "output_type": "stream",
     "text": [
      "EEG torch.Size([32, 10000])\n",
      "Labels torch.Size([32, 6])\n"
     ]
    }
   ],
   "source": [
    "train_eeg_batch, train_labels_batch = next(iter(train_dataloader))\n",
    "print(f\"EEG {train_eeg_batch.shape}\")\n",
    "print(f\"Labels {train_labels_batch.shape}\")\n"
   ]
  },
  {
   "cell_type": "markdown",
   "id": "8560f414",
   "metadata": {
    "papermill": {
     "duration": 0.006695,
     "end_time": "2024-03-30T21:55:09.263198",
     "exception": false,
     "start_time": "2024-03-30T21:55:09.256503",
     "status": "completed"
    },
    "tags": []
   },
   "source": [
    "# Convolution Neural Network"
   ]
  },
  {
   "cell_type": "code",
   "execution_count": 15,
   "id": "bd04fe4d",
   "metadata": {
    "execution": {
     "iopub.execute_input": "2024-03-30T21:55:09.279198Z",
     "iopub.status.busy": "2024-03-30T21:55:09.278777Z",
     "iopub.status.idle": "2024-03-30T21:55:09.286657Z",
     "shell.execute_reply": "2024-03-30T21:55:09.285430Z"
    },
    "papermill": {
     "duration": 0.018667,
     "end_time": "2024-03-30T21:55:09.288928",
     "exception": false,
     "start_time": "2024-03-30T21:55:09.270261",
     "status": "completed"
    },
    "tags": []
   },
   "outputs": [],
   "source": [
    "class ConvolutionNeuralNetwork1D(nn.Module):\n",
    "    def __init__(self):\n",
    "        super().__init__() # what does this super do?\n",
    "        \n",
    "        self.conv1 = nn.Conv1d(1, 64, kernel_size=5)\n",
    "        # do we need a pooling layer when dealing with such little data?\n",
    "        # self.conv2 = nn.Conv1d(64, 128, kernel_size=5)\n",
    "        \n",
    "        self.flatten = nn.Flatten()\n",
    "        self.linear_relu_stack = nn.Sequential(\n",
    "        \n",
    "        )\n",
    "    \n",
    "    def forward(self, x):\n",
    "        x = self.flatten(x)\n",
    "        logits = self.linear_relu_stack(x)\n",
    "        return logits\n",
    "    \n",
    "    def parameters(self):\n",
    "        # include function to return the parameters of the model?\n",
    "        return\n",
    "    "
   ]
  },
  {
   "cell_type": "code",
   "execution_count": 16,
   "id": "5f9927df",
   "metadata": {
    "execution": {
     "iopub.execute_input": "2024-03-30T21:55:09.305118Z",
     "iopub.status.busy": "2024-03-30T21:55:09.304702Z",
     "iopub.status.idle": "2024-03-30T21:55:09.315058Z",
     "shell.execute_reply": "2024-03-30T21:55:09.313349Z"
    },
    "papermill": {
     "duration": 0.02112,
     "end_time": "2024-03-30T21:55:09.317198",
     "exception": false,
     "start_time": "2024-03-30T21:55:09.296078",
     "status": "completed"
    },
    "tags": []
   },
   "outputs": [
    {
     "name": "stdout",
     "output_type": "stream",
     "text": [
      "model =  ConvolutionNeuralNetwork1D(\n",
      "  (conv1): Conv1d(1, 64, kernel_size=(5,), stride=(1,))\n",
      "  (flatten): Flatten(start_dim=1, end_dim=-1)\n",
      "  (linear_relu_stack): Sequential()\n",
      ")\n"
     ]
    }
   ],
   "source": [
    "model = ConvolutionNeuralNetwork1D().to(device)\n",
    "print(\"model = \", model)\n",
    "\n",
    "learning_rate = 0.01\n",
    "criterion = nn.CrossEntropyLoss()\n",
    "# optimizer = torch.optim.SGD(model.parameters(), lr=learning_rate) # SGD = stochastic gradient descent\n",
    "# how many parameters should we have?"
   ]
  },
  {
   "cell_type": "markdown",
   "id": "022d58f5",
   "metadata": {
    "papermill": {
     "duration": 0.007017,
     "end_time": "2024-03-30T21:55:09.331685",
     "exception": false,
     "start_time": "2024-03-30T21:55:09.324668",
     "status": "completed"
    },
    "tags": []
   },
   "source": []
  }
 ],
 "metadata": {
  "kaggle": {
   "accelerator": "none",
   "dataSources": [
    {
     "databundleVersionId": 7469972,
     "sourceId": 59093,
     "sourceType": "competition"
    },
    {
     "sourceId": 169204395,
     "sourceType": "kernelVersion"
    }
   ],
   "dockerImageVersionId": 30673,
   "isGpuEnabled": false,
   "isInternetEnabled": true,
   "language": "python",
   "sourceType": "notebook"
  },
  "kernelspec": {
   "display_name": "Python 3",
   "language": "python",
   "name": "python3"
  },
  "language_info": {
   "codemirror_mode": {
    "name": "ipython",
    "version": 3
   },
   "file_extension": ".py",
   "mimetype": "text/x-python",
   "name": "python",
   "nbconvert_exporter": "python",
   "pygments_lexer": "ipython3",
   "version": "3.10.13"
  },
  "papermill": {
   "default_parameters": {},
   "duration": 99.115922,
   "end_time": "2024-03-30T21:55:12.074264",
   "environment_variables": {},
   "exception": null,
   "input_path": "__notebook__.ipynb",
   "output_path": "__notebook__.ipynb",
   "parameters": {},
   "start_time": "2024-03-30T21:53:32.958342",
   "version": "2.5.0"
  }
 },
 "nbformat": 4,
 "nbformat_minor": 5
}
